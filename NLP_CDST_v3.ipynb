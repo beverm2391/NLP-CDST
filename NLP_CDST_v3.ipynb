{
  "nbformat": 4,
  "nbformat_minor": 0,
  "metadata": {
    "colab": {
      "provenance": [],
      "authorship_tag": "ABX9TyNNGf7LcwG7hoO703jZL2sN",
      "include_colab_link": true
    },
    "kernelspec": {
      "name": "python3",
      "display_name": "Python 3"
    },
    "language_info": {
      "name": "python"
    },
    "gpuClass": "standard",
    "widgets": {
      "application/vnd.jupyter.widget-state+json": {
        "c9770158c66b40ce9d48b07b539b6e8f": {
          "model_module": "@jupyter-widgets/controls",
          "model_name": "HBoxModel",
          "model_module_version": "1.5.0",
          "state": {
            "_dom_classes": [],
            "_model_module": "@jupyter-widgets/controls",
            "_model_module_version": "1.5.0",
            "_model_name": "HBoxModel",
            "_view_count": null,
            "_view_module": "@jupyter-widgets/controls",
            "_view_module_version": "1.5.0",
            "_view_name": "HBoxView",
            "box_style": "",
            "children": [
              "IPY_MODEL_cdede629d55c40aface9ad143b7b46dc",
              "IPY_MODEL_37681c0a615c4361b1ac7ed650ef3ece",
              "IPY_MODEL_506df9c89c2b4cd8a126826bbf9acf18"
            ],
            "layout": "IPY_MODEL_be1e73ea60af42a081e136542c73cf56"
          }
        },
        "cdede629d55c40aface9ad143b7b46dc": {
          "model_module": "@jupyter-widgets/controls",
          "model_name": "HTMLModel",
          "model_module_version": "1.5.0",
          "state": {
            "_dom_classes": [],
            "_model_module": "@jupyter-widgets/controls",
            "_model_module_version": "1.5.0",
            "_model_name": "HTMLModel",
            "_view_count": null,
            "_view_module": "@jupyter-widgets/controls",
            "_view_module_version": "1.5.0",
            "_view_name": "HTMLView",
            "description": "",
            "description_tooltip": null,
            "layout": "IPY_MODEL_61ad06f5faed4228a635fc685ed546f0",
            "placeholder": "​",
            "style": "IPY_MODEL_986d76ab81234acb89423369c091447e",
            "value": "Downloading (…)olve/main/vocab.json: 100%"
          }
        },
        "37681c0a615c4361b1ac7ed650ef3ece": {
          "model_module": "@jupyter-widgets/controls",
          "model_name": "FloatProgressModel",
          "model_module_version": "1.5.0",
          "state": {
            "_dom_classes": [],
            "_model_module": "@jupyter-widgets/controls",
            "_model_module_version": "1.5.0",
            "_model_name": "FloatProgressModel",
            "_view_count": null,
            "_view_module": "@jupyter-widgets/controls",
            "_view_module_version": "1.5.0",
            "_view_name": "ProgressView",
            "bar_style": "success",
            "description": "",
            "description_tooltip": null,
            "layout": "IPY_MODEL_0e0f16973ad741cb97b9f143e13e036f",
            "max": 1042301,
            "min": 0,
            "orientation": "horizontal",
            "style": "IPY_MODEL_fc9e4438c6b8471180b0976e646fee9e",
            "value": 1042301
          }
        },
        "506df9c89c2b4cd8a126826bbf9acf18": {
          "model_module": "@jupyter-widgets/controls",
          "model_name": "HTMLModel",
          "model_module_version": "1.5.0",
          "state": {
            "_dom_classes": [],
            "_model_module": "@jupyter-widgets/controls",
            "_model_module_version": "1.5.0",
            "_model_name": "HTMLModel",
            "_view_count": null,
            "_view_module": "@jupyter-widgets/controls",
            "_view_module_version": "1.5.0",
            "_view_name": "HTMLView",
            "description": "",
            "description_tooltip": null,
            "layout": "IPY_MODEL_319ce54996004d51b31ca7bde07b03b4",
            "placeholder": "​",
            "style": "IPY_MODEL_6a45618642f94da6a714895c5c939078",
            "value": " 1.04M/1.04M [00:00&lt;00:00, 5.92MB/s]"
          }
        },
        "be1e73ea60af42a081e136542c73cf56": {
          "model_module": "@jupyter-widgets/base",
          "model_name": "LayoutModel",
          "model_module_version": "1.2.0",
          "state": {
            "_model_module": "@jupyter-widgets/base",
            "_model_module_version": "1.2.0",
            "_model_name": "LayoutModel",
            "_view_count": null,
            "_view_module": "@jupyter-widgets/base",
            "_view_module_version": "1.2.0",
            "_view_name": "LayoutView",
            "align_content": null,
            "align_items": null,
            "align_self": null,
            "border": null,
            "bottom": null,
            "display": null,
            "flex": null,
            "flex_flow": null,
            "grid_area": null,
            "grid_auto_columns": null,
            "grid_auto_flow": null,
            "grid_auto_rows": null,
            "grid_column": null,
            "grid_gap": null,
            "grid_row": null,
            "grid_template_areas": null,
            "grid_template_columns": null,
            "grid_template_rows": null,
            "height": null,
            "justify_content": null,
            "justify_items": null,
            "left": null,
            "margin": null,
            "max_height": null,
            "max_width": null,
            "min_height": null,
            "min_width": null,
            "object_fit": null,
            "object_position": null,
            "order": null,
            "overflow": null,
            "overflow_x": null,
            "overflow_y": null,
            "padding": null,
            "right": null,
            "top": null,
            "visibility": null,
            "width": null
          }
        },
        "61ad06f5faed4228a635fc685ed546f0": {
          "model_module": "@jupyter-widgets/base",
          "model_name": "LayoutModel",
          "model_module_version": "1.2.0",
          "state": {
            "_model_module": "@jupyter-widgets/base",
            "_model_module_version": "1.2.0",
            "_model_name": "LayoutModel",
            "_view_count": null,
            "_view_module": "@jupyter-widgets/base",
            "_view_module_version": "1.2.0",
            "_view_name": "LayoutView",
            "align_content": null,
            "align_items": null,
            "align_self": null,
            "border": null,
            "bottom": null,
            "display": null,
            "flex": null,
            "flex_flow": null,
            "grid_area": null,
            "grid_auto_columns": null,
            "grid_auto_flow": null,
            "grid_auto_rows": null,
            "grid_column": null,
            "grid_gap": null,
            "grid_row": null,
            "grid_template_areas": null,
            "grid_template_columns": null,
            "grid_template_rows": null,
            "height": null,
            "justify_content": null,
            "justify_items": null,
            "left": null,
            "margin": null,
            "max_height": null,
            "max_width": null,
            "min_height": null,
            "min_width": null,
            "object_fit": null,
            "object_position": null,
            "order": null,
            "overflow": null,
            "overflow_x": null,
            "overflow_y": null,
            "padding": null,
            "right": null,
            "top": null,
            "visibility": null,
            "width": null
          }
        },
        "986d76ab81234acb89423369c091447e": {
          "model_module": "@jupyter-widgets/controls",
          "model_name": "DescriptionStyleModel",
          "model_module_version": "1.5.0",
          "state": {
            "_model_module": "@jupyter-widgets/controls",
            "_model_module_version": "1.5.0",
            "_model_name": "DescriptionStyleModel",
            "_view_count": null,
            "_view_module": "@jupyter-widgets/base",
            "_view_module_version": "1.2.0",
            "_view_name": "StyleView",
            "description_width": ""
          }
        },
        "0e0f16973ad741cb97b9f143e13e036f": {
          "model_module": "@jupyter-widgets/base",
          "model_name": "LayoutModel",
          "model_module_version": "1.2.0",
          "state": {
            "_model_module": "@jupyter-widgets/base",
            "_model_module_version": "1.2.0",
            "_model_name": "LayoutModel",
            "_view_count": null,
            "_view_module": "@jupyter-widgets/base",
            "_view_module_version": "1.2.0",
            "_view_name": "LayoutView",
            "align_content": null,
            "align_items": null,
            "align_self": null,
            "border": null,
            "bottom": null,
            "display": null,
            "flex": null,
            "flex_flow": null,
            "grid_area": null,
            "grid_auto_columns": null,
            "grid_auto_flow": null,
            "grid_auto_rows": null,
            "grid_column": null,
            "grid_gap": null,
            "grid_row": null,
            "grid_template_areas": null,
            "grid_template_columns": null,
            "grid_template_rows": null,
            "height": null,
            "justify_content": null,
            "justify_items": null,
            "left": null,
            "margin": null,
            "max_height": null,
            "max_width": null,
            "min_height": null,
            "min_width": null,
            "object_fit": null,
            "object_position": null,
            "order": null,
            "overflow": null,
            "overflow_x": null,
            "overflow_y": null,
            "padding": null,
            "right": null,
            "top": null,
            "visibility": null,
            "width": null
          }
        },
        "fc9e4438c6b8471180b0976e646fee9e": {
          "model_module": "@jupyter-widgets/controls",
          "model_name": "ProgressStyleModel",
          "model_module_version": "1.5.0",
          "state": {
            "_model_module": "@jupyter-widgets/controls",
            "_model_module_version": "1.5.0",
            "_model_name": "ProgressStyleModel",
            "_view_count": null,
            "_view_module": "@jupyter-widgets/base",
            "_view_module_version": "1.2.0",
            "_view_name": "StyleView",
            "bar_color": null,
            "description_width": ""
          }
        },
        "319ce54996004d51b31ca7bde07b03b4": {
          "model_module": "@jupyter-widgets/base",
          "model_name": "LayoutModel",
          "model_module_version": "1.2.0",
          "state": {
            "_model_module": "@jupyter-widgets/base",
            "_model_module_version": "1.2.0",
            "_model_name": "LayoutModel",
            "_view_count": null,
            "_view_module": "@jupyter-widgets/base",
            "_view_module_version": "1.2.0",
            "_view_name": "LayoutView",
            "align_content": null,
            "align_items": null,
            "align_self": null,
            "border": null,
            "bottom": null,
            "display": null,
            "flex": null,
            "flex_flow": null,
            "grid_area": null,
            "grid_auto_columns": null,
            "grid_auto_flow": null,
            "grid_auto_rows": null,
            "grid_column": null,
            "grid_gap": null,
            "grid_row": null,
            "grid_template_areas": null,
            "grid_template_columns": null,
            "grid_template_rows": null,
            "height": null,
            "justify_content": null,
            "justify_items": null,
            "left": null,
            "margin": null,
            "max_height": null,
            "max_width": null,
            "min_height": null,
            "min_width": null,
            "object_fit": null,
            "object_position": null,
            "order": null,
            "overflow": null,
            "overflow_x": null,
            "overflow_y": null,
            "padding": null,
            "right": null,
            "top": null,
            "visibility": null,
            "width": null
          }
        },
        "6a45618642f94da6a714895c5c939078": {
          "model_module": "@jupyter-widgets/controls",
          "model_name": "DescriptionStyleModel",
          "model_module_version": "1.5.0",
          "state": {
            "_model_module": "@jupyter-widgets/controls",
            "_model_module_version": "1.5.0",
            "_model_name": "DescriptionStyleModel",
            "_view_count": null,
            "_view_module": "@jupyter-widgets/base",
            "_view_module_version": "1.2.0",
            "_view_name": "StyleView",
            "description_width": ""
          }
        },
        "36caa169316e466c8f9e5ad245c160e7": {
          "model_module": "@jupyter-widgets/controls",
          "model_name": "HBoxModel",
          "model_module_version": "1.5.0",
          "state": {
            "_dom_classes": [],
            "_model_module": "@jupyter-widgets/controls",
            "_model_module_version": "1.5.0",
            "_model_name": "HBoxModel",
            "_view_count": null,
            "_view_module": "@jupyter-widgets/controls",
            "_view_module_version": "1.5.0",
            "_view_name": "HBoxView",
            "box_style": "",
            "children": [
              "IPY_MODEL_8feb078f95d2415587b3e36219d2ba15",
              "IPY_MODEL_85185ff2c0144c6e884f5f41c5cf3eff",
              "IPY_MODEL_45f31317dfae4281b35f5032a8a7dfdf"
            ],
            "layout": "IPY_MODEL_7193a45210d244d081c780e196f54ca2"
          }
        },
        "8feb078f95d2415587b3e36219d2ba15": {
          "model_module": "@jupyter-widgets/controls",
          "model_name": "HTMLModel",
          "model_module_version": "1.5.0",
          "state": {
            "_dom_classes": [],
            "_model_module": "@jupyter-widgets/controls",
            "_model_module_version": "1.5.0",
            "_model_name": "HTMLModel",
            "_view_count": null,
            "_view_module": "@jupyter-widgets/controls",
            "_view_module_version": "1.5.0",
            "_view_name": "HTMLView",
            "description": "",
            "description_tooltip": null,
            "layout": "IPY_MODEL_b05c8d2517914c1e8f92e86ac344a1f8",
            "placeholder": "​",
            "style": "IPY_MODEL_082d2fe8d212428cbab6d20e67e9582a",
            "value": "Downloading (…)olve/main/merges.txt: 100%"
          }
        },
        "85185ff2c0144c6e884f5f41c5cf3eff": {
          "model_module": "@jupyter-widgets/controls",
          "model_name": "FloatProgressModel",
          "model_module_version": "1.5.0",
          "state": {
            "_dom_classes": [],
            "_model_module": "@jupyter-widgets/controls",
            "_model_module_version": "1.5.0",
            "_model_name": "FloatProgressModel",
            "_view_count": null,
            "_view_module": "@jupyter-widgets/controls",
            "_view_module_version": "1.5.0",
            "_view_name": "ProgressView",
            "bar_style": "success",
            "description": "",
            "description_tooltip": null,
            "layout": "IPY_MODEL_b7e13aa24c994d5191452156b70ca3aa",
            "max": 456318,
            "min": 0,
            "orientation": "horizontal",
            "style": "IPY_MODEL_5477346ee9bb47f4b37d4e4ac136775f",
            "value": 456318
          }
        },
        "45f31317dfae4281b35f5032a8a7dfdf": {
          "model_module": "@jupyter-widgets/controls",
          "model_name": "HTMLModel",
          "model_module_version": "1.5.0",
          "state": {
            "_dom_classes": [],
            "_model_module": "@jupyter-widgets/controls",
            "_model_module_version": "1.5.0",
            "_model_name": "HTMLModel",
            "_view_count": null,
            "_view_module": "@jupyter-widgets/controls",
            "_view_module_version": "1.5.0",
            "_view_name": "HTMLView",
            "description": "",
            "description_tooltip": null,
            "layout": "IPY_MODEL_19b1890800f245adad9c861ef5b4a9c0",
            "placeholder": "​",
            "style": "IPY_MODEL_333746be0bd84dd1881e6e7f85ededd4",
            "value": " 456k/456k [00:00&lt;00:00, 3.41MB/s]"
          }
        },
        "7193a45210d244d081c780e196f54ca2": {
          "model_module": "@jupyter-widgets/base",
          "model_name": "LayoutModel",
          "model_module_version": "1.2.0",
          "state": {
            "_model_module": "@jupyter-widgets/base",
            "_model_module_version": "1.2.0",
            "_model_name": "LayoutModel",
            "_view_count": null,
            "_view_module": "@jupyter-widgets/base",
            "_view_module_version": "1.2.0",
            "_view_name": "LayoutView",
            "align_content": null,
            "align_items": null,
            "align_self": null,
            "border": null,
            "bottom": null,
            "display": null,
            "flex": null,
            "flex_flow": null,
            "grid_area": null,
            "grid_auto_columns": null,
            "grid_auto_flow": null,
            "grid_auto_rows": null,
            "grid_column": null,
            "grid_gap": null,
            "grid_row": null,
            "grid_template_areas": null,
            "grid_template_columns": null,
            "grid_template_rows": null,
            "height": null,
            "justify_content": null,
            "justify_items": null,
            "left": null,
            "margin": null,
            "max_height": null,
            "max_width": null,
            "min_height": null,
            "min_width": null,
            "object_fit": null,
            "object_position": null,
            "order": null,
            "overflow": null,
            "overflow_x": null,
            "overflow_y": null,
            "padding": null,
            "right": null,
            "top": null,
            "visibility": null,
            "width": null
          }
        },
        "b05c8d2517914c1e8f92e86ac344a1f8": {
          "model_module": "@jupyter-widgets/base",
          "model_name": "LayoutModel",
          "model_module_version": "1.2.0",
          "state": {
            "_model_module": "@jupyter-widgets/base",
            "_model_module_version": "1.2.0",
            "_model_name": "LayoutModel",
            "_view_count": null,
            "_view_module": "@jupyter-widgets/base",
            "_view_module_version": "1.2.0",
            "_view_name": "LayoutView",
            "align_content": null,
            "align_items": null,
            "align_self": null,
            "border": null,
            "bottom": null,
            "display": null,
            "flex": null,
            "flex_flow": null,
            "grid_area": null,
            "grid_auto_columns": null,
            "grid_auto_flow": null,
            "grid_auto_rows": null,
            "grid_column": null,
            "grid_gap": null,
            "grid_row": null,
            "grid_template_areas": null,
            "grid_template_columns": null,
            "grid_template_rows": null,
            "height": null,
            "justify_content": null,
            "justify_items": null,
            "left": null,
            "margin": null,
            "max_height": null,
            "max_width": null,
            "min_height": null,
            "min_width": null,
            "object_fit": null,
            "object_position": null,
            "order": null,
            "overflow": null,
            "overflow_x": null,
            "overflow_y": null,
            "padding": null,
            "right": null,
            "top": null,
            "visibility": null,
            "width": null
          }
        },
        "082d2fe8d212428cbab6d20e67e9582a": {
          "model_module": "@jupyter-widgets/controls",
          "model_name": "DescriptionStyleModel",
          "model_module_version": "1.5.0",
          "state": {
            "_model_module": "@jupyter-widgets/controls",
            "_model_module_version": "1.5.0",
            "_model_name": "DescriptionStyleModel",
            "_view_count": null,
            "_view_module": "@jupyter-widgets/base",
            "_view_module_version": "1.2.0",
            "_view_name": "StyleView",
            "description_width": ""
          }
        },
        "b7e13aa24c994d5191452156b70ca3aa": {
          "model_module": "@jupyter-widgets/base",
          "model_name": "LayoutModel",
          "model_module_version": "1.2.0",
          "state": {
            "_model_module": "@jupyter-widgets/base",
            "_model_module_version": "1.2.0",
            "_model_name": "LayoutModel",
            "_view_count": null,
            "_view_module": "@jupyter-widgets/base",
            "_view_module_version": "1.2.0",
            "_view_name": "LayoutView",
            "align_content": null,
            "align_items": null,
            "align_self": null,
            "border": null,
            "bottom": null,
            "display": null,
            "flex": null,
            "flex_flow": null,
            "grid_area": null,
            "grid_auto_columns": null,
            "grid_auto_flow": null,
            "grid_auto_rows": null,
            "grid_column": null,
            "grid_gap": null,
            "grid_row": null,
            "grid_template_areas": null,
            "grid_template_columns": null,
            "grid_template_rows": null,
            "height": null,
            "justify_content": null,
            "justify_items": null,
            "left": null,
            "margin": null,
            "max_height": null,
            "max_width": null,
            "min_height": null,
            "min_width": null,
            "object_fit": null,
            "object_position": null,
            "order": null,
            "overflow": null,
            "overflow_x": null,
            "overflow_y": null,
            "padding": null,
            "right": null,
            "top": null,
            "visibility": null,
            "width": null
          }
        },
        "5477346ee9bb47f4b37d4e4ac136775f": {
          "model_module": "@jupyter-widgets/controls",
          "model_name": "ProgressStyleModel",
          "model_module_version": "1.5.0",
          "state": {
            "_model_module": "@jupyter-widgets/controls",
            "_model_module_version": "1.5.0",
            "_model_name": "ProgressStyleModel",
            "_view_count": null,
            "_view_module": "@jupyter-widgets/base",
            "_view_module_version": "1.2.0",
            "_view_name": "StyleView",
            "bar_color": null,
            "description_width": ""
          }
        },
        "19b1890800f245adad9c861ef5b4a9c0": {
          "model_module": "@jupyter-widgets/base",
          "model_name": "LayoutModel",
          "model_module_version": "1.2.0",
          "state": {
            "_model_module": "@jupyter-widgets/base",
            "_model_module_version": "1.2.0",
            "_model_name": "LayoutModel",
            "_view_count": null,
            "_view_module": "@jupyter-widgets/base",
            "_view_module_version": "1.2.0",
            "_view_name": "LayoutView",
            "align_content": null,
            "align_items": null,
            "align_self": null,
            "border": null,
            "bottom": null,
            "display": null,
            "flex": null,
            "flex_flow": null,
            "grid_area": null,
            "grid_auto_columns": null,
            "grid_auto_flow": null,
            "grid_auto_rows": null,
            "grid_column": null,
            "grid_gap": null,
            "grid_row": null,
            "grid_template_areas": null,
            "grid_template_columns": null,
            "grid_template_rows": null,
            "height": null,
            "justify_content": null,
            "justify_items": null,
            "left": null,
            "margin": null,
            "max_height": null,
            "max_width": null,
            "min_height": null,
            "min_width": null,
            "object_fit": null,
            "object_position": null,
            "order": null,
            "overflow": null,
            "overflow_x": null,
            "overflow_y": null,
            "padding": null,
            "right": null,
            "top": null,
            "visibility": null,
            "width": null
          }
        },
        "333746be0bd84dd1881e6e7f85ededd4": {
          "model_module": "@jupyter-widgets/controls",
          "model_name": "DescriptionStyleModel",
          "model_module_version": "1.5.0",
          "state": {
            "_model_module": "@jupyter-widgets/controls",
            "_model_module_version": "1.5.0",
            "_model_name": "DescriptionStyleModel",
            "_view_count": null,
            "_view_module": "@jupyter-widgets/base",
            "_view_module_version": "1.2.0",
            "_view_name": "StyleView",
            "description_width": ""
          }
        },
        "9f52eefc6b634fdf90178e2215b3fb16": {
          "model_module": "@jupyter-widgets/controls",
          "model_name": "HBoxModel",
          "model_module_version": "1.5.0",
          "state": {
            "_dom_classes": [],
            "_model_module": "@jupyter-widgets/controls",
            "_model_module_version": "1.5.0",
            "_model_name": "HBoxModel",
            "_view_count": null,
            "_view_module": "@jupyter-widgets/controls",
            "_view_module_version": "1.5.0",
            "_view_name": "HBoxView",
            "box_style": "",
            "children": [
              "IPY_MODEL_9455fd3e036a4106a09870bcc8228eb1",
              "IPY_MODEL_864cfaa0765c4d9b975f92f101f0c2c9",
              "IPY_MODEL_f51b01dc921049e083567fbfc77aa676"
            ],
            "layout": "IPY_MODEL_90ede1c184f54b4599891dc089de2c87"
          }
        },
        "9455fd3e036a4106a09870bcc8228eb1": {
          "model_module": "@jupyter-widgets/controls",
          "model_name": "HTMLModel",
          "model_module_version": "1.5.0",
          "state": {
            "_dom_classes": [],
            "_model_module": "@jupyter-widgets/controls",
            "_model_module_version": "1.5.0",
            "_model_name": "HTMLModel",
            "_view_count": null,
            "_view_module": "@jupyter-widgets/controls",
            "_view_module_version": "1.5.0",
            "_view_name": "HTMLView",
            "description": "",
            "description_tooltip": null,
            "layout": "IPY_MODEL_a9f0a900bb0e43de9a4bbe7ddb6f2bb0",
            "placeholder": "​",
            "style": "IPY_MODEL_75ec22ee2cff4ef797c0e661e53c2385",
            "value": "Downloading (…)/main/tokenizer.json: 100%"
          }
        },
        "864cfaa0765c4d9b975f92f101f0c2c9": {
          "model_module": "@jupyter-widgets/controls",
          "model_name": "FloatProgressModel",
          "model_module_version": "1.5.0",
          "state": {
            "_dom_classes": [],
            "_model_module": "@jupyter-widgets/controls",
            "_model_module_version": "1.5.0",
            "_model_name": "FloatProgressModel",
            "_view_count": null,
            "_view_module": "@jupyter-widgets/controls",
            "_view_module_version": "1.5.0",
            "_view_name": "ProgressView",
            "bar_style": "success",
            "description": "",
            "description_tooltip": null,
            "layout": "IPY_MODEL_70cbf52d3d9b4da898a8a34c20054032",
            "max": 1355256,
            "min": 0,
            "orientation": "horizontal",
            "style": "IPY_MODEL_00e17173fc2d42eb964351650330d8cd",
            "value": 1355256
          }
        },
        "f51b01dc921049e083567fbfc77aa676": {
          "model_module": "@jupyter-widgets/controls",
          "model_name": "HTMLModel",
          "model_module_version": "1.5.0",
          "state": {
            "_dom_classes": [],
            "_model_module": "@jupyter-widgets/controls",
            "_model_module_version": "1.5.0",
            "_model_name": "HTMLModel",
            "_view_count": null,
            "_view_module": "@jupyter-widgets/controls",
            "_view_module_version": "1.5.0",
            "_view_name": "HTMLView",
            "description": "",
            "description_tooltip": null,
            "layout": "IPY_MODEL_80406c988d9944f79f12f36dabdee0e1",
            "placeholder": "​",
            "style": "IPY_MODEL_c66d3d14cdfa45a4bd0ba00d201425e3",
            "value": " 1.36M/1.36M [00:00&lt;00:00, 8.75MB/s]"
          }
        },
        "90ede1c184f54b4599891dc089de2c87": {
          "model_module": "@jupyter-widgets/base",
          "model_name": "LayoutModel",
          "model_module_version": "1.2.0",
          "state": {
            "_model_module": "@jupyter-widgets/base",
            "_model_module_version": "1.2.0",
            "_model_name": "LayoutModel",
            "_view_count": null,
            "_view_module": "@jupyter-widgets/base",
            "_view_module_version": "1.2.0",
            "_view_name": "LayoutView",
            "align_content": null,
            "align_items": null,
            "align_self": null,
            "border": null,
            "bottom": null,
            "display": null,
            "flex": null,
            "flex_flow": null,
            "grid_area": null,
            "grid_auto_columns": null,
            "grid_auto_flow": null,
            "grid_auto_rows": null,
            "grid_column": null,
            "grid_gap": null,
            "grid_row": null,
            "grid_template_areas": null,
            "grid_template_columns": null,
            "grid_template_rows": null,
            "height": null,
            "justify_content": null,
            "justify_items": null,
            "left": null,
            "margin": null,
            "max_height": null,
            "max_width": null,
            "min_height": null,
            "min_width": null,
            "object_fit": null,
            "object_position": null,
            "order": null,
            "overflow": null,
            "overflow_x": null,
            "overflow_y": null,
            "padding": null,
            "right": null,
            "top": null,
            "visibility": null,
            "width": null
          }
        },
        "a9f0a900bb0e43de9a4bbe7ddb6f2bb0": {
          "model_module": "@jupyter-widgets/base",
          "model_name": "LayoutModel",
          "model_module_version": "1.2.0",
          "state": {
            "_model_module": "@jupyter-widgets/base",
            "_model_module_version": "1.2.0",
            "_model_name": "LayoutModel",
            "_view_count": null,
            "_view_module": "@jupyter-widgets/base",
            "_view_module_version": "1.2.0",
            "_view_name": "LayoutView",
            "align_content": null,
            "align_items": null,
            "align_self": null,
            "border": null,
            "bottom": null,
            "display": null,
            "flex": null,
            "flex_flow": null,
            "grid_area": null,
            "grid_auto_columns": null,
            "grid_auto_flow": null,
            "grid_auto_rows": null,
            "grid_column": null,
            "grid_gap": null,
            "grid_row": null,
            "grid_template_areas": null,
            "grid_template_columns": null,
            "grid_template_rows": null,
            "height": null,
            "justify_content": null,
            "justify_items": null,
            "left": null,
            "margin": null,
            "max_height": null,
            "max_width": null,
            "min_height": null,
            "min_width": null,
            "object_fit": null,
            "object_position": null,
            "order": null,
            "overflow": null,
            "overflow_x": null,
            "overflow_y": null,
            "padding": null,
            "right": null,
            "top": null,
            "visibility": null,
            "width": null
          }
        },
        "75ec22ee2cff4ef797c0e661e53c2385": {
          "model_module": "@jupyter-widgets/controls",
          "model_name": "DescriptionStyleModel",
          "model_module_version": "1.5.0",
          "state": {
            "_model_module": "@jupyter-widgets/controls",
            "_model_module_version": "1.5.0",
            "_model_name": "DescriptionStyleModel",
            "_view_count": null,
            "_view_module": "@jupyter-widgets/base",
            "_view_module_version": "1.2.0",
            "_view_name": "StyleView",
            "description_width": ""
          }
        },
        "70cbf52d3d9b4da898a8a34c20054032": {
          "model_module": "@jupyter-widgets/base",
          "model_name": "LayoutModel",
          "model_module_version": "1.2.0",
          "state": {
            "_model_module": "@jupyter-widgets/base",
            "_model_module_version": "1.2.0",
            "_model_name": "LayoutModel",
            "_view_count": null,
            "_view_module": "@jupyter-widgets/base",
            "_view_module_version": "1.2.0",
            "_view_name": "LayoutView",
            "align_content": null,
            "align_items": null,
            "align_self": null,
            "border": null,
            "bottom": null,
            "display": null,
            "flex": null,
            "flex_flow": null,
            "grid_area": null,
            "grid_auto_columns": null,
            "grid_auto_flow": null,
            "grid_auto_rows": null,
            "grid_column": null,
            "grid_gap": null,
            "grid_row": null,
            "grid_template_areas": null,
            "grid_template_columns": null,
            "grid_template_rows": null,
            "height": null,
            "justify_content": null,
            "justify_items": null,
            "left": null,
            "margin": null,
            "max_height": null,
            "max_width": null,
            "min_height": null,
            "min_width": null,
            "object_fit": null,
            "object_position": null,
            "order": null,
            "overflow": null,
            "overflow_x": null,
            "overflow_y": null,
            "padding": null,
            "right": null,
            "top": null,
            "visibility": null,
            "width": null
          }
        },
        "00e17173fc2d42eb964351650330d8cd": {
          "model_module": "@jupyter-widgets/controls",
          "model_name": "ProgressStyleModel",
          "model_module_version": "1.5.0",
          "state": {
            "_model_module": "@jupyter-widgets/controls",
            "_model_module_version": "1.5.0",
            "_model_name": "ProgressStyleModel",
            "_view_count": null,
            "_view_module": "@jupyter-widgets/base",
            "_view_module_version": "1.2.0",
            "_view_name": "StyleView",
            "bar_color": null,
            "description_width": ""
          }
        },
        "80406c988d9944f79f12f36dabdee0e1": {
          "model_module": "@jupyter-widgets/base",
          "model_name": "LayoutModel",
          "model_module_version": "1.2.0",
          "state": {
            "_model_module": "@jupyter-widgets/base",
            "_model_module_version": "1.2.0",
            "_model_name": "LayoutModel",
            "_view_count": null,
            "_view_module": "@jupyter-widgets/base",
            "_view_module_version": "1.2.0",
            "_view_name": "LayoutView",
            "align_content": null,
            "align_items": null,
            "align_self": null,
            "border": null,
            "bottom": null,
            "display": null,
            "flex": null,
            "flex_flow": null,
            "grid_area": null,
            "grid_auto_columns": null,
            "grid_auto_flow": null,
            "grid_auto_rows": null,
            "grid_column": null,
            "grid_gap": null,
            "grid_row": null,
            "grid_template_areas": null,
            "grid_template_columns": null,
            "grid_template_rows": null,
            "height": null,
            "justify_content": null,
            "justify_items": null,
            "left": null,
            "margin": null,
            "max_height": null,
            "max_width": null,
            "min_height": null,
            "min_width": null,
            "object_fit": null,
            "object_position": null,
            "order": null,
            "overflow": null,
            "overflow_x": null,
            "overflow_y": null,
            "padding": null,
            "right": null,
            "top": null,
            "visibility": null,
            "width": null
          }
        },
        "c66d3d14cdfa45a4bd0ba00d201425e3": {
          "model_module": "@jupyter-widgets/controls",
          "model_name": "DescriptionStyleModel",
          "model_module_version": "1.5.0",
          "state": {
            "_model_module": "@jupyter-widgets/controls",
            "_model_module_version": "1.5.0",
            "_model_name": "DescriptionStyleModel",
            "_view_count": null,
            "_view_module": "@jupyter-widgets/base",
            "_view_module_version": "1.2.0",
            "_view_name": "StyleView",
            "description_width": ""
          }
        },
        "7d8ef70769154e5498671356384f975d": {
          "model_module": "@jupyter-widgets/controls",
          "model_name": "HBoxModel",
          "model_module_version": "1.5.0",
          "state": {
            "_dom_classes": [],
            "_model_module": "@jupyter-widgets/controls",
            "_model_module_version": "1.5.0",
            "_model_name": "HBoxModel",
            "_view_count": null,
            "_view_module": "@jupyter-widgets/controls",
            "_view_module_version": "1.5.0",
            "_view_name": "HBoxView",
            "box_style": "",
            "children": [
              "IPY_MODEL_7b6d5e6f24794806aae080dd4bcfe317",
              "IPY_MODEL_0895c65d3f0d4ff98ad8a8868ed7a55a",
              "IPY_MODEL_c7c85b0727a84bd7b6d16454257cafff"
            ],
            "layout": "IPY_MODEL_bb3e183bddb542668064823958e1d6ef"
          }
        },
        "7b6d5e6f24794806aae080dd4bcfe317": {
          "model_module": "@jupyter-widgets/controls",
          "model_name": "HTMLModel",
          "model_module_version": "1.5.0",
          "state": {
            "_dom_classes": [],
            "_model_module": "@jupyter-widgets/controls",
            "_model_module_version": "1.5.0",
            "_model_name": "HTMLModel",
            "_view_count": null,
            "_view_module": "@jupyter-widgets/controls",
            "_view_module_version": "1.5.0",
            "_view_name": "HTMLView",
            "description": "",
            "description_tooltip": null,
            "layout": "IPY_MODEL_04eb6323d581444eabd394f71319826e",
            "placeholder": "​",
            "style": "IPY_MODEL_c29f995903ef49aaa0ac0bd605993bb8",
            "value": "Downloading (…)lve/main/config.json: 100%"
          }
        },
        "0895c65d3f0d4ff98ad8a8868ed7a55a": {
          "model_module": "@jupyter-widgets/controls",
          "model_name": "FloatProgressModel",
          "model_module_version": "1.5.0",
          "state": {
            "_dom_classes": [],
            "_model_module": "@jupyter-widgets/controls",
            "_model_module_version": "1.5.0",
            "_model_name": "FloatProgressModel",
            "_view_count": null,
            "_view_module": "@jupyter-widgets/controls",
            "_view_module_version": "1.5.0",
            "_view_name": "ProgressView",
            "bar_style": "success",
            "description": "",
            "description_tooltip": null,
            "layout": "IPY_MODEL_544c7f0d1f794bafb6f72dbcb1441f3d",
            "max": 665,
            "min": 0,
            "orientation": "horizontal",
            "style": "IPY_MODEL_6b9b7e9be11141e0a6d0c080ead59472",
            "value": 665
          }
        },
        "c7c85b0727a84bd7b6d16454257cafff": {
          "model_module": "@jupyter-widgets/controls",
          "model_name": "HTMLModel",
          "model_module_version": "1.5.0",
          "state": {
            "_dom_classes": [],
            "_model_module": "@jupyter-widgets/controls",
            "_model_module_version": "1.5.0",
            "_model_name": "HTMLModel",
            "_view_count": null,
            "_view_module": "@jupyter-widgets/controls",
            "_view_module_version": "1.5.0",
            "_view_name": "HTMLView",
            "description": "",
            "description_tooltip": null,
            "layout": "IPY_MODEL_3aa15e7f298049189892025f64b57f72",
            "placeholder": "​",
            "style": "IPY_MODEL_b8872959a26c4cee8ccd1cc8013dbba9",
            "value": " 665/665 [00:00&lt;00:00, 19.6kB/s]"
          }
        },
        "bb3e183bddb542668064823958e1d6ef": {
          "model_module": "@jupyter-widgets/base",
          "model_name": "LayoutModel",
          "model_module_version": "1.2.0",
          "state": {
            "_model_module": "@jupyter-widgets/base",
            "_model_module_version": "1.2.0",
            "_model_name": "LayoutModel",
            "_view_count": null,
            "_view_module": "@jupyter-widgets/base",
            "_view_module_version": "1.2.0",
            "_view_name": "LayoutView",
            "align_content": null,
            "align_items": null,
            "align_self": null,
            "border": null,
            "bottom": null,
            "display": null,
            "flex": null,
            "flex_flow": null,
            "grid_area": null,
            "grid_auto_columns": null,
            "grid_auto_flow": null,
            "grid_auto_rows": null,
            "grid_column": null,
            "grid_gap": null,
            "grid_row": null,
            "grid_template_areas": null,
            "grid_template_columns": null,
            "grid_template_rows": null,
            "height": null,
            "justify_content": null,
            "justify_items": null,
            "left": null,
            "margin": null,
            "max_height": null,
            "max_width": null,
            "min_height": null,
            "min_width": null,
            "object_fit": null,
            "object_position": null,
            "order": null,
            "overflow": null,
            "overflow_x": null,
            "overflow_y": null,
            "padding": null,
            "right": null,
            "top": null,
            "visibility": null,
            "width": null
          }
        },
        "04eb6323d581444eabd394f71319826e": {
          "model_module": "@jupyter-widgets/base",
          "model_name": "LayoutModel",
          "model_module_version": "1.2.0",
          "state": {
            "_model_module": "@jupyter-widgets/base",
            "_model_module_version": "1.2.0",
            "_model_name": "LayoutModel",
            "_view_count": null,
            "_view_module": "@jupyter-widgets/base",
            "_view_module_version": "1.2.0",
            "_view_name": "LayoutView",
            "align_content": null,
            "align_items": null,
            "align_self": null,
            "border": null,
            "bottom": null,
            "display": null,
            "flex": null,
            "flex_flow": null,
            "grid_area": null,
            "grid_auto_columns": null,
            "grid_auto_flow": null,
            "grid_auto_rows": null,
            "grid_column": null,
            "grid_gap": null,
            "grid_row": null,
            "grid_template_areas": null,
            "grid_template_columns": null,
            "grid_template_rows": null,
            "height": null,
            "justify_content": null,
            "justify_items": null,
            "left": null,
            "margin": null,
            "max_height": null,
            "max_width": null,
            "min_height": null,
            "min_width": null,
            "object_fit": null,
            "object_position": null,
            "order": null,
            "overflow": null,
            "overflow_x": null,
            "overflow_y": null,
            "padding": null,
            "right": null,
            "top": null,
            "visibility": null,
            "width": null
          }
        },
        "c29f995903ef49aaa0ac0bd605993bb8": {
          "model_module": "@jupyter-widgets/controls",
          "model_name": "DescriptionStyleModel",
          "model_module_version": "1.5.0",
          "state": {
            "_model_module": "@jupyter-widgets/controls",
            "_model_module_version": "1.5.0",
            "_model_name": "DescriptionStyleModel",
            "_view_count": null,
            "_view_module": "@jupyter-widgets/base",
            "_view_module_version": "1.2.0",
            "_view_name": "StyleView",
            "description_width": ""
          }
        },
        "544c7f0d1f794bafb6f72dbcb1441f3d": {
          "model_module": "@jupyter-widgets/base",
          "model_name": "LayoutModel",
          "model_module_version": "1.2.0",
          "state": {
            "_model_module": "@jupyter-widgets/base",
            "_model_module_version": "1.2.0",
            "_model_name": "LayoutModel",
            "_view_count": null,
            "_view_module": "@jupyter-widgets/base",
            "_view_module_version": "1.2.0",
            "_view_name": "LayoutView",
            "align_content": null,
            "align_items": null,
            "align_self": null,
            "border": null,
            "bottom": null,
            "display": null,
            "flex": null,
            "flex_flow": null,
            "grid_area": null,
            "grid_auto_columns": null,
            "grid_auto_flow": null,
            "grid_auto_rows": null,
            "grid_column": null,
            "grid_gap": null,
            "grid_row": null,
            "grid_template_areas": null,
            "grid_template_columns": null,
            "grid_template_rows": null,
            "height": null,
            "justify_content": null,
            "justify_items": null,
            "left": null,
            "margin": null,
            "max_height": null,
            "max_width": null,
            "min_height": null,
            "min_width": null,
            "object_fit": null,
            "object_position": null,
            "order": null,
            "overflow": null,
            "overflow_x": null,
            "overflow_y": null,
            "padding": null,
            "right": null,
            "top": null,
            "visibility": null,
            "width": null
          }
        },
        "6b9b7e9be11141e0a6d0c080ead59472": {
          "model_module": "@jupyter-widgets/controls",
          "model_name": "ProgressStyleModel",
          "model_module_version": "1.5.0",
          "state": {
            "_model_module": "@jupyter-widgets/controls",
            "_model_module_version": "1.5.0",
            "_model_name": "ProgressStyleModel",
            "_view_count": null,
            "_view_module": "@jupyter-widgets/base",
            "_view_module_version": "1.2.0",
            "_view_name": "StyleView",
            "bar_color": null,
            "description_width": ""
          }
        },
        "3aa15e7f298049189892025f64b57f72": {
          "model_module": "@jupyter-widgets/base",
          "model_name": "LayoutModel",
          "model_module_version": "1.2.0",
          "state": {
            "_model_module": "@jupyter-widgets/base",
            "_model_module_version": "1.2.0",
            "_model_name": "LayoutModel",
            "_view_count": null,
            "_view_module": "@jupyter-widgets/base",
            "_view_module_version": "1.2.0",
            "_view_name": "LayoutView",
            "align_content": null,
            "align_items": null,
            "align_self": null,
            "border": null,
            "bottom": null,
            "display": null,
            "flex": null,
            "flex_flow": null,
            "grid_area": null,
            "grid_auto_columns": null,
            "grid_auto_flow": null,
            "grid_auto_rows": null,
            "grid_column": null,
            "grid_gap": null,
            "grid_row": null,
            "grid_template_areas": null,
            "grid_template_columns": null,
            "grid_template_rows": null,
            "height": null,
            "justify_content": null,
            "justify_items": null,
            "left": null,
            "margin": null,
            "max_height": null,
            "max_width": null,
            "min_height": null,
            "min_width": null,
            "object_fit": null,
            "object_position": null,
            "order": null,
            "overflow": null,
            "overflow_x": null,
            "overflow_y": null,
            "padding": null,
            "right": null,
            "top": null,
            "visibility": null,
            "width": null
          }
        },
        "b8872959a26c4cee8ccd1cc8013dbba9": {
          "model_module": "@jupyter-widgets/controls",
          "model_name": "DescriptionStyleModel",
          "model_module_version": "1.5.0",
          "state": {
            "_model_module": "@jupyter-widgets/controls",
            "_model_module_version": "1.5.0",
            "_model_name": "DescriptionStyleModel",
            "_view_count": null,
            "_view_module": "@jupyter-widgets/base",
            "_view_module_version": "1.2.0",
            "_view_name": "StyleView",
            "description_width": ""
          }
        }
      }
    }
  },
  "cells": [
    {
      "cell_type": "markdown",
      "metadata": {
        "id": "view-in-github",
        "colab_type": "text"
      },
      "source": [
        "<a href=\"https://colab.research.google.com/github/beverm2391/NLP-CDST/blob/main/NLP_CDST_v3.ipynb\" target=\"_parent\"><img src=\"https://colab.research.google.com/assets/colab-badge.svg\" alt=\"Open In Colab\"/></a>"
      ]
    },
    {
      "cell_type": "markdown",
      "source": [
        "##Setup"
      ],
      "metadata": {
        "id": "_vnICff1ZePC"
      }
    },
    {
      "cell_type": "code",
      "source": [
        "from google.colab import drive\n",
        "drive.mount('/content/drive')"
      ],
      "metadata": {
        "colab": {
          "base_uri": "https://localhost:8080/"
        },
        "id": "2y_xs9X8-SWJ",
        "outputId": "34799312-5bf2-4e6e-ca9b-ea01a45f7c35"
      },
      "execution_count": 1,
      "outputs": [
        {
          "output_type": "stream",
          "name": "stdout",
          "text": [
            "Mounted at /content/drive\n"
          ]
        }
      ]
    },
    {
      "cell_type": "markdown",
      "source": [
        "Install Dependencies"
      ],
      "metadata": {
        "id": "ojQrIS6WaIpj"
      }
    },
    {
      "cell_type": "code",
      "source": [
        "!pip install -U sentence-transformers openai python-dotenv"
      ],
      "metadata": {
        "id": "6k71JuH6V2ZM"
      },
      "execution_count": null,
      "outputs": []
    },
    {
      "cell_type": "code",
      "source": [
        "import pickle\n",
        "import numpy as np\n",
        "from typing import List, Tuple, Dict\n",
        "from sentence_transformers import SentenceTransformer, util\n",
        "import os\n",
        "import pandas as pd\n",
        "from transformers import GPT2TokenizerFast\n",
        "import openai\n",
        "from dotenv import load_dotenv"
      ],
      "metadata": {
        "id": "v8qaz5q-JHgF"
      },
      "execution_count": 3,
      "outputs": []
    },
    {
      "cell_type": "code",
      "source": [
        "# I have already taken my context, in this case the DSM-5 and loaded the text of each page into a list. I used a pdf parser for python called pdfminer.six\n",
        "# [\"Page one text\", \"Page two text\",...]\n",
        "\n",
        "# I'm using pickle to save/load the list as binary\n",
        "\n",
        "with open(\"/content/drive/MyDrive/PDFs-for-Parsing/DSM-5_page_list_v1\", \"rb\") as fp:\n",
        "  dsm_list = pickle.load(fp)\n",
        "\n",
        "# I'll refer to this context as text_to_encode"
      ],
      "metadata": {
        "id": "rfEdwQSA-IID"
      },
      "execution_count": 4,
      "outputs": []
    },
    {
      "cell_type": "code",
      "source": [
        "# Specify the file path to store and load the encoded text (which is in the form of vector embeddings)\n",
        "fpath = \"/content/drive/MyDrive/PDFs-for-Parsing/DSM-5_embeddings_v1\""
      ],
      "metadata": {
        "id": "d7-W98cBc1jk"
      },
      "execution_count": 7,
      "outputs": []
    },
    {
      "cell_type": "code",
      "source": [
        "# Set the OpenAI API key environment variable\n",
        "# load from master.env file in My Drive\n",
        "# this gives access to the GPT- mode\n",
        "# your own API key can be obtained here: https://openai.com/api/\n",
        "\n",
        "load_dotenv(\"/content/drive/MyDrive/master.env\")\n",
        "api_key = os.environ.get('OPENAI-API-KEY')\n",
        "openai.api_key = api_key"
      ],
      "metadata": {
        "id": "sxiKqKEjB6Rr"
      },
      "execution_count": 8,
      "outputs": []
    },
    {
      "cell_type": "markdown",
      "source": [
        "##Some Function Definition"
      ],
      "metadata": {
        "id": "62SIk7kb-yMv"
      }
    },
    {
      "cell_type": "markdown",
      "source": [
        "This function either loads the embeddings, or returns None if none exist."
      ],
      "metadata": {
        "id": "nFciHWHNfpMQ"
      }
    },
    {
      "cell_type": "code",
      "source": [
        "def load_embeddings(fpath : str) -> List[List[float]]:\n",
        "  # if the csv file containg our context embeddings at fpath exists, read it and convert it into list format\n",
        "  if os.path.exists(fpath):\n",
        "    with open(fpath, 'r') as f:\n",
        "      embeddings_df = pd.read_csv(fpath)\n",
        "      # convert the df back into a list of lists\n",
        "      embeddings = embeddings_df.values.tolist()\n",
        "      print(\"loaded embeddings\")\n",
        "      return embeddings\n",
        "  else:\n",
        "    return None"
      ],
      "metadata": {
        "id": "dqGRpmMVmvf9"
      },
      "execution_count": 9,
      "outputs": []
    },
    {
      "cell_type": "markdown",
      "source": [
        "This next funciton encodes text into a vector embedding"
      ],
      "metadata": {
        "id": "kYsxsfrqfvPd"
      }
    },
    {
      "cell_type": "markdown",
      "source": [
        "https://huggingface.co/sentence-transformers/multi-qa-mpnet-base-dot-v1\n",
        "\n",
        "This model \"maps sentences & paragraphs to a 768 dimensional dense vector space and was designed for semantic search.\n",
        "It has been trained on 215M (question, answer) pairs from diverse sources.\"\n",
        "It will encode our corpus of text into vector embeddings"
      ],
      "metadata": {
        "id": "58Okdn0zcmTQ"
      }
    },
    {
      "cell_type": "markdown",
      "source": [
        "Make sure you have added a GPU to the runtime. Just click the \"Runtime\" menu item up top (you might have to restart the runtime)"
      ],
      "metadata": {
        "id": "STUMDzuA86_g"
      }
    },
    {
      "cell_type": "code",
      "source": [
        "def get_embedding(text: str) -> List[float]:\n",
        "  model = SentenceTransformer('sentence-transformers/multi-qa-mpnet-base-dot-v1')\n",
        "  embedding = model.encode(text)\n",
        "  return embedding"
      ],
      "metadata": {
        "id": "4I5sEpn9Yrs8"
      },
      "execution_count": 10,
      "outputs": []
    },
    {
      "cell_type": "code",
      "source": [
        "def encode_text(text_to_encode : List[str], fpath : str):\n",
        "\n",
        "  embeddings = load_embeddings(fpath)\n",
        "  # create empty list of n items if no embeddings\n",
        "  if embeddings == None:\n",
        "    print(\"No file found, creating blank list\")\n",
        "    embeddings = [None for _ in text_to_encode]\n",
        "\n",
        "  failed_embeddings = []\n",
        "  embeddings_to_generate = embeddings.count(None)\n",
        "\n",
        "  if embeddings_to_generate == 0:\n",
        "    print(\"No embeddings to generate\")\n",
        "    return embeddings\n",
        "\n",
        "  print(f\"Generating {embeddings_to_generate} embeddings\")\n",
        "\n",
        "  for idx, value in enumerate(text_to_encode):\n",
        "    if embeddings[idx] is None:\n",
        "      try:\n",
        "        embedding = get_embedding(value)\n",
        "        embeddings[idx] = embedding.tolist()\n",
        "        print(f\"Embeddding {idx + 1} generated\")\n",
        "      # if embedding fails\n",
        "      except Exception as e:\n",
        "        print(f\"Embedding {idx + 1} failed\")\n",
        "        failed_embeddings.append(idx)\n",
        "\n",
        "  print(\"Encoding Successful\")\n",
        "\n",
        "  if len(failed_embeddings) > 0:\n",
        "    print(f\"{len(failed_embeddings)} embeddings failed. Indexes: {failed_embeddings}\")\n",
        "  else:\n",
        "    print(\"No embeddings failed\")\n",
        "\n",
        "  # This is where we'll write the embeddings to CSV\n",
        "  temp_df_for_storage = pd.DataFrame(embeddings)\n",
        "  temp_df_for_storage.to_csv(fpath, index=False)\n",
        "\n",
        "  print(\"Written to csv\")\n",
        "\n",
        "  return embeddings"
      ],
      "metadata": {
        "id": "CtIh-IbLYxv-"
      },
      "execution_count": 11,
      "outputs": []
    },
    {
      "cell_type": "code",
      "source": [
        "embeddings = encode_text(dsm_list, fpath)"
      ],
      "metadata": {
        "id": "SCNS9rbNSi8D"
      },
      "execution_count": null,
      "outputs": []
    },
    {
      "cell_type": "markdown",
      "source": [
        "## Using the tool"
      ],
      "metadata": {
        "id": "udAq-ZcGpn0F"
      }
    },
    {
      "cell_type": "code",
      "source": [
        "def get_response(prompt, model):\n",
        "    response = openai.Completion.create(\n",
        "        model=model,\n",
        "        prompt=prompt,\n",
        "        temperature=0,\n",
        "        max_tokens=1000,\n",
        "    )\n",
        "    return response['choices'][0]['text'].strip(\" \\n\")"
      ],
      "metadata": {
        "id": "aNc5QJqMW5l2"
      },
      "execution_count": 12,
      "outputs": []
    },
    {
      "cell_type": "markdown",
      "source": [
        "This function iterates over the training text and encodes each list item into a vector embedding, which is then stored in a DataFrame and written to csv for storage. "
      ],
      "metadata": {
        "id": "7_wCBjMfc7JV"
      }
    },
    {
      "cell_type": "markdown",
      "source": [
        "This encoding process will take some time, even with the T4 GPU. It took me about 15 minutes to encode a list of ~800 pages, each with around 1k tokens."
      ],
      "metadata": {
        "id": "blSq5aVfdIF-"
      }
    },
    {
      "cell_type": "markdown",
      "source": [
        "After Once the corpus has been encoded once, the embeddings just needs to be loaded once each session."
      ],
      "metadata": {
        "id": "eBx9qN_wdl8g"
      }
    },
    {
      "cell_type": "code",
      "source": [
        "embeddings = load_embeddings(fpath)"
      ],
      "metadata": {
        "colab": {
          "base_uri": "https://localhost:8080/"
        },
        "id": "ChWq3Y92--OE",
        "outputId": "e16e5507-bd65-4fe6-8236-f4505e1c5e9e"
      },
      "execution_count": 15,
      "outputs": [
        {
          "output_type": "stream",
          "name": "stdout",
          "text": [
            "loaded embeddings\n"
          ]
        }
      ]
    },
    {
      "cell_type": "markdown",
      "source": [
        "Now that we have two lists, one with the corpus text and one with the encoded text (vector embedding), we'll aggregate them into one data structure."
      ],
      "metadata": {
        "id": "81C_ejbZdahi"
      }
    },
    {
      "cell_type": "code",
      "source": [
        "def aggregate_text_and_embeddings(text_to_encode, embeddings) -> Dict[str , Tuple[str, List[float]]]:\n",
        "  assert embeddings is not None\n",
        "\n",
        "  text_to_encode = text_to_encode[:727]\n",
        "  embeddings = embeddings[:727]\n",
        "\n",
        "  text_and_embeddings = {}\n",
        "  for idx, text in enumerate(text_to_encode):\n",
        "    text_and_embeddings[f\"Chunk {idx + 1}\"] = (text, embeddings[idx])\n",
        "  return text_and_embeddings\n",
        "\n",
        "# Example\n",
        "# {\"Chunk 1\" : (\"This is the text of chunk 1...\", [.23434, .12324, .52323, ...]),\n",
        "#  \"Chunk 2\" : (\"This is the text of chunk 2...\", [.20934, .16524, .78362, ...])}"
      ],
      "metadata": {
        "id": "F41Sjt35h_DS"
      },
      "execution_count": 16,
      "outputs": []
    },
    {
      "cell_type": "markdown",
      "source": [
        "Then the text and embeddings get aggregated into one dictionary"
      ],
      "metadata": {
        "id": "0kOusLKleTXG"
      }
    },
    {
      "cell_type": "code",
      "source": [
        "text_and_embeddings = aggregate_text_and_embeddings(dsm_list, embeddings)"
      ],
      "metadata": {
        "id": "CbEwHNb-zZ7w"
      },
      "execution_count": 17,
      "outputs": []
    },
    {
      "cell_type": "code",
      "source": [
        "def get_relevant_info(case_note: str, instructions : str) -> str:\n",
        "  prompt = \"Case Note:\\n\" + case_note + \"\\n\" + instructions\n",
        "  model = \"text-davinci-003\"\n",
        "  response = get_response(prompt, model) \n",
        "  return response"
      ],
      "metadata": {
        "id": "varQRSFHdwB2"
      },
      "execution_count": 13,
      "outputs": []
    },
    {
      "cell_type": "code",
      "source": [
        "def get_case_note_key_terms(case_note: str) -> str:\n",
        "  header = \"summarize any symptoms of mental illness:\"\n",
        "  prompt = \"Case Note:\" + \"\\n\" + case_note + \"\\n\" + header\n",
        "  # im using davinci 2 so that the response is more concise\n",
        "  model = \"text-davinci-003\"\n",
        "\n",
        "  response = get_response(prompt, model)\n",
        "  print(\"Screening for:\\n\" + response + \"\\n\")\n",
        "\n",
        "  return response"
      ],
      "metadata": {
        "id": "FF0slXncWEvB"
      },
      "execution_count": 14,
      "outputs": []
    },
    {
      "cell_type": "code",
      "source": [
        "def vector_similarity(x: List[float], y: List[float]) -> float:\n",
        "    return np.dot(np.array(x), np.array(y))\n",
        "\n",
        "def order_by_similarity(text_and_embeddings : Dict[str, Tuple[str, List[float]]]) -> List[Tuple[float, str, str]]:\n",
        "\n",
        "  # get key terms from the case note\n",
        "  relevant_info = get_relevant_info(case_note, instructions)\n",
        "  # get an embedding of those key terms\n",
        "  query_embedding = get_embedding(relevant_info)\n",
        "\n",
        "  ordered_text = sorted([(vector_similarity(query_embedding, chunk[1]), chunk, idx) for idx, chunk in text_and_embeddings.items()], reverse=True)\n",
        "\n",
        "  print(\"Text ordered by similarity\")\n",
        "  return ordered_text\n",
        "\n",
        "# Example\n",
        "# [(0.12398640147, \"Chunk 47\", \"This is the text of chunk 47...\")...]"
      ],
      "metadata": {
        "id": "sX8Yn4uvdpJC"
      },
      "execution_count": 18,
      "outputs": []
    },
    {
      "cell_type": "markdown",
      "source": [
        "This cell below can be used to see which embeddings are similar to any relevant info (as derived from any case note)\n"
      ],
      "metadata": {
        "id": "edTbQIdsp-Jw"
      }
    },
    {
      "cell_type": "markdown",
      "source": [
        "**Creating the prompt**"
      ],
      "metadata": {
        "id": "aAQRRowEpcAY"
      }
    },
    {
      "cell_type": "markdown",
      "source": [
        "This term is used to separate the sections of text that get pulled into the prompt each time it gets built. Checking the number of tokens so that we stay in adherance to all our token limits down the line."
      ],
      "metadata": {
        "id": "PTHN9R2yetXr"
      }
    },
    {
      "cell_type": "code",
      "source": [
        "seperator = \"\\n* \"\n",
        "\n",
        "tokenizer = GPT2TokenizerFast.from_pretrained(\"gpt2\")\n",
        "separator_len = len(tokenizer.tokenize(seperator))\n",
        "\n",
        "f\"Context separator contains {separator_len} tokens\""
      ],
      "metadata": {
        "colab": {
          "base_uri": "https://localhost:8080/",
          "height": 163,
          "referenced_widgets": [
            "c9770158c66b40ce9d48b07b539b6e8f",
            "cdede629d55c40aface9ad143b7b46dc",
            "37681c0a615c4361b1ac7ed650ef3ece",
            "506df9c89c2b4cd8a126826bbf9acf18",
            "be1e73ea60af42a081e136542c73cf56",
            "61ad06f5faed4228a635fc685ed546f0",
            "986d76ab81234acb89423369c091447e",
            "0e0f16973ad741cb97b9f143e13e036f",
            "fc9e4438c6b8471180b0976e646fee9e",
            "319ce54996004d51b31ca7bde07b03b4",
            "6a45618642f94da6a714895c5c939078",
            "36caa169316e466c8f9e5ad245c160e7",
            "8feb078f95d2415587b3e36219d2ba15",
            "85185ff2c0144c6e884f5f41c5cf3eff",
            "45f31317dfae4281b35f5032a8a7dfdf",
            "7193a45210d244d081c780e196f54ca2",
            "b05c8d2517914c1e8f92e86ac344a1f8",
            "082d2fe8d212428cbab6d20e67e9582a",
            "b7e13aa24c994d5191452156b70ca3aa",
            "5477346ee9bb47f4b37d4e4ac136775f",
            "19b1890800f245adad9c861ef5b4a9c0",
            "333746be0bd84dd1881e6e7f85ededd4",
            "9f52eefc6b634fdf90178e2215b3fb16",
            "9455fd3e036a4106a09870bcc8228eb1",
            "864cfaa0765c4d9b975f92f101f0c2c9",
            "f51b01dc921049e083567fbfc77aa676",
            "90ede1c184f54b4599891dc089de2c87",
            "a9f0a900bb0e43de9a4bbe7ddb6f2bb0",
            "75ec22ee2cff4ef797c0e661e53c2385",
            "70cbf52d3d9b4da898a8a34c20054032",
            "00e17173fc2d42eb964351650330d8cd",
            "80406c988d9944f79f12f36dabdee0e1",
            "c66d3d14cdfa45a4bd0ba00d201425e3",
            "7d8ef70769154e5498671356384f975d",
            "7b6d5e6f24794806aae080dd4bcfe317",
            "0895c65d3f0d4ff98ad8a8868ed7a55a",
            "c7c85b0727a84bd7b6d16454257cafff",
            "bb3e183bddb542668064823958e1d6ef",
            "04eb6323d581444eabd394f71319826e",
            "c29f995903ef49aaa0ac0bd605993bb8",
            "544c7f0d1f794bafb6f72dbcb1441f3d",
            "6b9b7e9be11141e0a6d0c080ead59472",
            "3aa15e7f298049189892025f64b57f72",
            "b8872959a26c4cee8ccd1cc8013dbba9"
          ]
        },
        "id": "SOo6yDjK22RF",
        "outputId": "cb37ca6d-074d-4fbc-98dd-452fdc43e41d"
      },
      "execution_count": 19,
      "outputs": [
        {
          "output_type": "display_data",
          "data": {
            "text/plain": [
              "Downloading (…)olve/main/vocab.json:   0%|          | 0.00/1.04M [00:00<?, ?B/s]"
            ],
            "application/vnd.jupyter.widget-view+json": {
              "version_major": 2,
              "version_minor": 0,
              "model_id": "c9770158c66b40ce9d48b07b539b6e8f"
            }
          },
          "metadata": {}
        },
        {
          "output_type": "display_data",
          "data": {
            "text/plain": [
              "Downloading (…)olve/main/merges.txt:   0%|          | 0.00/456k [00:00<?, ?B/s]"
            ],
            "application/vnd.jupyter.widget-view+json": {
              "version_major": 2,
              "version_minor": 0,
              "model_id": "36caa169316e466c8f9e5ad245c160e7"
            }
          },
          "metadata": {}
        },
        {
          "output_type": "display_data",
          "data": {
            "text/plain": [
              "Downloading (…)/main/tokenizer.json:   0%|          | 0.00/1.36M [00:00<?, ?B/s]"
            ],
            "application/vnd.jupyter.widget-view+json": {
              "version_major": 2,
              "version_minor": 0,
              "model_id": "9f52eefc6b634fdf90178e2215b3fb16"
            }
          },
          "metadata": {}
        },
        {
          "output_type": "display_data",
          "data": {
            "text/plain": [
              "Downloading (…)lve/main/config.json:   0%|          | 0.00/665 [00:00<?, ?B/s]"
            ],
            "application/vnd.jupyter.widget-view+json": {
              "version_major": 2,
              "version_minor": 0,
              "model_id": "7d8ef70769154e5498671356384f975d"
            }
          },
          "metadata": {}
        },
        {
          "output_type": "execute_result",
          "data": {
            "text/plain": [
              "'Context separator contains 3 tokens'"
            ],
            "application/vnd.google.colaboratory.intrinsic+json": {
              "type": "string"
            }
          },
          "metadata": {},
          "execution_count": 19
        }
      ]
    },
    {
      "cell_type": "code",
      "source": [
        "def build_prompt(question : str, text_and_embeddings : Dict[str , Tuple[str, List[float]]]) -> str:\n",
        "  # first we order the context by how simlar their embeddings are to our query embedding\n",
        "  ordered_text = order_by_similarity(text_and_embeddings)\n",
        "\n",
        "  context_list = []\n",
        "  context_tokens = 0\n",
        "  context_token_limit = 2000\n",
        "\n",
        "  # then we append the most similar context until we reach our token limit\n",
        "  for item in ordered_text:\n",
        "    text = item[1][0]\n",
        "\n",
        "    context_tokens += len(tokenizer.tokenize(text)) + separator_len\n",
        "\n",
        "    if context_tokens > context_token_limit:\n",
        "      break\n",
        "\n",
        "    context_list.append(seperator + text.replace(\"\\n\", \" \"))\n",
        "\n",
        "  # now to actually construct the prompt\n",
        "  header = \"\"\"Answer as truthfully as possible using the provided context.\"\"\"\n",
        "  # get relevant clinical information\n",
        "  relevant_info = get_relevant_info(case_note, instructions)\n",
        "\n",
        "  prompt = header + \"\".join(context_list) + \"\\n\\nRelevant Information:\\n\" + relevant_info + \"\\n\\nQuestion:\\n\" + question + \"\\nAnswer:\"\n",
        "\n",
        "  print(\"Prompt Constructed: \\n\")\n",
        "  print(prompt)\n",
        "\n",
        "  return prompt\n"
      ],
      "metadata": {
        "id": "bb9L5lUjeGoa"
      },
      "execution_count": 32,
      "outputs": []
    },
    {
      "cell_type": "markdown",
      "source": [
        "This funciton builds the prompt, which is a string that is sent to OpenAI's GPT-3 for the final response\n",
        "\n",
        "If you want to modify the header, do it here"
      ],
      "metadata": {
        "id": "YLq-BTCHe7UA"
      }
    },
    {
      "cell_type": "markdown",
      "source": [
        "## User Input"
      ],
      "metadata": {
        "id": "QJ3bwRPITBiU"
      }
    },
    {
      "cell_type": "code",
      "source": [
        "instructions = \"\"\"Screen this patient for illness.\n",
        "1. Identify the patient\n",
        "2. List the patient's symptoms\n",
        "3. List other key patient information\n",
        "\n",
        "Stop\n",
        "\"\"\""
      ],
      "metadata": {
        "id": "OcKEAT7HnraH"
      },
      "execution_count": 21,
      "outputs": []
    },
    {
      "cell_type": "markdown",
      "source": [
        "You can modify the input below"
      ],
      "metadata": {
        "id": "gCFBHSmg7xE3"
      }
    },
    {
      "cell_type": "code",
      "source": [
        "case_note = \"\"\"\n",
        "Michael is a 15-year-old male who presents with fatigue and lack of interest in activities. He has lost weight and his parents are concerned. He denies any other symptoms. Medical history is significant for normal development. He has no known allergies and is up to date on his vaccinations. He reports that he used to be a good student but his grades have been slipping and he’s been skipping class. He used to be popular with his classmates but now he feels like he doesn’t fit in and has no friends. He denies any history of bullying. Mental status exam reveals a cooperative, well-groomed male who is alert and oriented to person, place, and time. He has a flat affect and speaks in a monotone voice. He reports feeling “down” but denies any suicidal ideation\n",
        "\"\"\""
      ],
      "metadata": {
        "id": "MKJk5dDgbO3Z"
      },
      "execution_count": 34,
      "outputs": []
    },
    {
      "cell_type": "code",
      "source": [
        "# get the relevant diagnostic info from the prompt\n",
        "question = \"\"\"1. Does the patient meet any diagnostic criteria?\n",
        "2. Does the patient meets enough criteria to warrant further screening for anything. If so, specify what they should be screened for.\"\n",
        "\"\"\""
      ],
      "metadata": {
        "id": "SFyZZQXLdhsl"
      },
      "execution_count": 24,
      "outputs": []
    },
    {
      "cell_type": "markdown",
      "source": [
        "Run the tool"
      ],
      "metadata": {
        "id": "bBWJhBPr70eH"
      }
    },
    {
      "cell_type": "code",
      "source": [
        "def run_tool(question, corpus):\n",
        "    prompt = build_prompt(question, corpus)\n",
        "    model = \"text-davinci-003\"\n",
        "\n",
        "    response = get_response(prompt, model)\n",
        "    return response"
      ],
      "metadata": {
        "id": "VwE4nP-66HqV"
      },
      "execution_count": 25,
      "outputs": []
    },
    {
      "cell_type": "markdown",
      "source": [
        "What if the tool is wrong? This is why its a *Decision Support Tool*, and thus is only meant to provide the physician with useful information - NOT to replace the physician."
      ],
      "metadata": {
        "id": "sjfxmLc3-vJc"
      }
    },
    {
      "cell_type": "code",
      "source": [
        "output = run_tool(question, text_and_embeddings)\n",
        "print(output)"
      ],
      "metadata": {
        "colab": {
          "base_uri": "https://localhost:8080/"
        },
        "id": "CG3nnQsOATYQ",
        "outputId": "2ba241c1-3a4a-40c9-b0b4-652ddccdcda3"
      },
      "execution_count": 35,
      "outputs": [
        {
          "output_type": "stream",
          "name": "stdout",
          "text": [
            "Text ordered by similarity\n",
            "Prompt Constructed: \n",
            "\n",
            "Answer as truthfully as possible using the provided context.\n",
            "* Major Depressive Disorder  163  The essential feature of a major depressive episode is a period of at least 2 weeks during which there is either depressed mood or the loss of interest or pleasure in nearly all activi- ties (Criterion A). In children and adolescents, the mood may be irritable rather than sad. The individual must also experience at least four additional symptoms drawn from a list that includes changes in appetite or weight, sleep, and psychomotor activity; decreased en- ergy; feelings of worthlessness or guilt; difficulty thinking, concentrating, or making deci- sions; or recurrent thoughts of death or suicidal ideation or suicide plans or attempts. To count toward a major depressive episode, a symptom must either be newly present or must have clearly worsened compared with the person’s pre-episode status. The symptoms must persist for most of the day, nearly every day, for at least 2 consecutive weeks. The ep- isode must be accompanied by clinically significant distress or impairment in social, occu- pational, or other important areas of functioning. For some individuals with milder episodes, functioning may appear to be normal but requires markedly increased effort.  The mood in a major depressive episode is often described by the person as depressed, sad, hopeless, discouraged, or “down in the dumps” (Criterion A1). In some cases, sadness may be denied at first but may subsequently be elicited by interview (e.g., by pointing out that the individual looks as if he or she is about to cry). In some individuals who complain of feeling “blah,” having no feelings, or feeling anxious, the presence of a depressed mood can be inferred from the person’s facial expression and demeanor. Some individuals em- phasize somatic complaints (e.g., bodily aches and pains) rather than reporting feelings of sadness. Many individuals report or exhibit increased irritability (e.g., persistent anger, a tendency to respond to events with angry outbursts or blaming others, an exaggerated sense of frustration over minor matters). In children and adolescents, an irritable or cranky mood may develop rather than a sad or dejected mood. This presentation should be dif- ferentiated from a pattern of irritability when frustrated.  Loss of interest or pleasure is nearly always present, at least to some degree. Individ- uals may report feeling less interested in hobbies, “not caring anymore,” or not feeling any enjoyment in activities that were previously considered pleasurable (Criterion A2). Family members often notice social withdrawal or neglect of pleasurable avocations (e.g., a for- merly avid golfer no longer plays, a child who used to enjoy soccer finds excuses not to practice). In some individuals, there is a significant reduction from previous levels of sex- ual interest or desire.  Appetite change may involve either a reduction or increase. Some depressed individ- uals report that they have to force themselves to eat. Others may eat more and may crave specific foods (e.g., sweets or other carbohydrates). When appetite changes are severe (in either direction), there may be a significant loss or gain in weight, or, in children, a failure to make expected weight gains may be noted (Criterion A3).  Sleep disturbance may take the form of either difficulty sleeping or sleeping exces- sively (Criterion A4). When insomnia is present, it typically takes the form of middle in- somnia (i.e., waking up during the night and then having difficulty returning to sleep) or terminal insomnia (i.e., waking too early and being unable to return to sleep). Initial in- somnia (i.e., difficulty falling asleep) may also occur. Individuals who present with over- sleeping (hypersomnia) may experience prolonged sleep episodes at night or increased daytime sleep. Sometimes the reason that the individual seeks treatment is for the dis- turbed sleep.  Psychomotor changes include agitation (e.g., the inability to sit still, pacing, hand- wringing; or pulling or rubbing of the skin, clothing, or other objects) or retardation (e.g., slowed speech, thinking, and body movements; increased pauses before answering; speech that is decreased in volume, inflection, amount, or variety of content, or muteness) (Criterion A5). The psychomotor agitation or retardation must be severe enough to be ob- servable by others and not represent merely subjective feelings.  Decreased energy, tiredness, and fatigue are common (Criterion A6). A person may re- port sustained fatigue without physical exertion. Even the smallest tasks seem to require  \f\n",
            "* 470  Disruptive, Impulse-Control, and Conduct Disorders  4. Has been physically cruel to people. 5. Has been physically cruel to animals. 6. Has  stolen  while  confronting  a  victim  (e.g.,  mugging,  purse  snatching,  extortion,  armed robbery).  7. Has forced someone into sexual activity.  Destruction of Property  8. Has deliberately engaged in fire setting with the intention of causing serious damage. 9. Has deliberately destroyed others’ property (other than by fire setting).  Deceitfulness or Theft  10. Has broken into someone else’s house, building, or car. 11. Often lies to obtain goods or favors or to avoid obligations (i.e., “cons” others). 12. Has stolen items of nontrivial value without confronting a victim (e.g., shoplifting,  but without breaking and entering; forgery).  Serious Violations of Rules  13. Often stays out at night despite parental prohibitions, beginning before age 13 years. 14. Has run away from home overnight at least twice while living in the parental or pa-  rental surrogate home, or once without returning for a lengthy period. Is often truant from school, beginning before age 13 years.  15.  B. The  disturbance  in  behavior  causes  clinically  significant  impairment  in  social,  aca-  demic, or occupational functioning.  C. If the individual is age 18 years or older, criteria are not met for antisocial personality  disorder.  Specify whether:  312.81 (F91.1) Childhood-onset type: Individuals show at least one symptom char- acteristic of conduct disorder prior to age 10 years. 312.82 (F91.2) Adolescent-onset type: Individuals show no symptom characteristic of conduct disorder prior to age 10 years.  312.89  (F91.9)  Unspecified  onset:  Criteria  for  a  diagnosis  of  conduct  disorder are met, but there is not enough information available to determine whether the onset of the first symptom was before or after age 10 years.   Specify if:  With limited prosocial emotions: To qualify for this specifier, an individual must have dis- played at least two of the following characteristics persistently over at least 12 months and in multiple relationships and settings. These characteristics reflect the individual’s typical pattern of interpersonal and emotional functioning over this period and not just occasional occurrences in some situations. Thus, to assess the criteria for the specifier, multiple infor- mation sources are necessary. In addition to the individual’s self-report, it is necessary to consider reports by others who have known the individual for extended periods of time (e.g., parents, teachers, co-workers, extended family members, peers).  Lack of remorse or guilt: Does not feel bad or guilty when he or she does some- thing  wrong  (exclude  remorse  when  expressed  only  when  caught  and/or  facing punishment). The individual shows a general lack of concern about the negative consequences of his or her actions. For example, the individual is not remorseful after hurting someone or does not care about the consequences of breaking rules. Callous—lack of empathy: Disregards and is unconcerned about the feelings of others. The individual is described as cold and uncaring. The person appears more concerned about the effects of his or her actions on himself or herself, rather than their effects on others, even when they result in substantial harm to others.  \f\n",
            "\n",
            "Relevant Information:\n",
            "1. Michael is a 15-year-old male.\n",
            "2. Symptoms include fatigue, lack of interest in activities, weight loss, slipping grades, and feeling like he doesn’t fit in.\n",
            "3. Medical history is significant for normal development, no known allergies, and up to date on vaccinations. Mental status exam reveals a cooperative, well-groomed male who is alert and oriented to person, place, and time with a flat affect and speaking in a monotone voice. He reports feeling “down” but denies any suicidal ideation.\n",
            "\n",
            "Question:\n",
            "1. Does the patient meet any diagnostic criteria?\n",
            "2. Does the patient meets enough criteria to warrant further screening for anything. If so, specify what they should be screened for.\"\n",
            "\n",
            "Answer:\n",
            "1. The patient meets some of the criteria for Major Depressive Disorder, including depressed mood, decreased energy, decreased interest in activities, and decreased appetite.\n",
            "\n",
            "2. The patient meets enough criteria to warrant further screening for Major Depressive Disorder. They should be screened for other symptoms of Major Depressive Disorder, such as changes in sleep, feelings of worthlessness or guilt, difficulty thinking, concentrating, or making decisions, and recurrent thoughts of death or suicidal ideation or suicide plans or attempts.\n"
          ]
        }
      ]
    }
  ]
}